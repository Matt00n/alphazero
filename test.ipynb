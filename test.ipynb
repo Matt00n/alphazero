{
 "cells": [
  {
   "cell_type": "code",
   "execution_count": 1,
   "metadata": {},
   "outputs": [],
   "source": [
    "import jax\n",
    "import jax.numpy as jnp"
   ]
  },
  {
   "cell_type": "code",
   "execution_count": 6,
   "metadata": {},
   "outputs": [
    {
     "name": "stdout",
     "output_type": "stream",
     "text": [
      "(1,)\n",
      "[1.]\n",
      "(1,)\n",
      "[0.]\n"
     ]
    }
   ],
   "source": [
    "terminated = jnp.logical_or(\n",
    "    1 < 2,\n",
    "    3 < 4,\n",
    ")\n",
    "terminated = jnp.where(\n",
    "    terminated, jnp.ones(1), jnp.zeros(1)\n",
    ").astype(float)\n",
    "truncated = jnp.where(\n",
    "    5 >= 4, 1 - terminated, jnp.zeros_like(terminated)\n",
    ")\n",
    "\n",
    "print(terminated.shape)\n",
    "print(terminated)\n",
    "print(truncated.shape)\n",
    "print(truncated)"
   ]
  },
  {
   "cell_type": "code",
   "execution_count": 10,
   "metadata": {},
   "outputs": [
    {
     "data": {
      "text/plain": [
       "Array([4.], dtype=float32)"
      ]
     },
     "execution_count": 10,
     "metadata": {},
     "output_type": "execute_result"
    }
   ],
   "source": [
    "jnp.ones(1) * 4"
   ]
  },
  {
   "cell_type": "code",
   "execution_count": null,
   "metadata": {},
   "outputs": [],
   "source": []
  }
 ],
 "metadata": {
  "kernelspec": {
   "display_name": "rl_algo",
   "language": "python",
   "name": "python3"
  },
  "language_info": {
   "codemirror_mode": {
    "name": "ipython",
    "version": 3
   },
   "file_extension": ".py",
   "mimetype": "text/x-python",
   "name": "python",
   "nbconvert_exporter": "python",
   "pygments_lexer": "ipython3",
   "version": "3.11.6"
  },
  "orig_nbformat": 4
 },
 "nbformat": 4,
 "nbformat_minor": 2
}
